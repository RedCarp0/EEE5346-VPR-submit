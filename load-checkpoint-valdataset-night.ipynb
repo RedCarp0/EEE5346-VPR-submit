{
 "cells": [
  {
   "attachments": {},
   "cell_type": "markdown",
   "metadata": {},
   "source": [
    "# load checkpoint and evaluate\n",
    "\n",
    "run result on val dataset. no gt."
   ]
  },
  {
   "cell_type": "code",
   "execution_count": 1,
   "metadata": {},
   "outputs": [
    {
     "name": "stderr",
     "output_type": "stream",
     "text": [
      "/home/rcvlab/anaconda3/envs/py39_VPR/lib/python3.9/site-packages/tqdm/auto.py:21: TqdmWarning: IProgress not found. Please update jupyter and ipywidgets. See https://ipywidgets.readthedocs.io/en/stable/user_install.html\n",
      "  from .autonotebook import tqdm as notebook_tqdm\n"
     ]
    },
    {
     "name": "stdout",
     "output_type": "stream",
     "text": [
      "cuda:1\n",
      "/home/rcvlab/Workspace/py39_VPR/EEE5346_VPR/EEE5346-VPR/experiment_output/experiment4/Date_2023_05_28_Time_03_22_44_expID_cs27qb9g_trialID_F086c/bestmodel_epoch_0_sr_0.8791666666666667.pth\n"
     ]
    }
   ],
   "source": [
    "%matplotlib inline\n",
    "from utils import *\n",
    "from model import *\n",
    "import PIL\n",
    "import matplotlib\n",
    "from PIL import Image\n",
    "from matplotlib import pyplot as plt\n",
    "\n",
    "SELECT_INTVAL = 10\n",
    "OUTPUT_MATCH_THREASH = 0.9\n",
    "OUTPUT_FILE_NAME = os.path.join(WS_PATH, 'output_autumn_night.txt')\n",
    "\n",
    "EXPRIMENT_NAME = 'experiment4'\n",
    "TRIAL_NAME = 'Date_2023_05_28_Time_03_22_44_expID_cs27qb9g_trialID_F086c'\n",
    "CHECKPOINT_NAME = 'bestmodel_epoch_0_sr_0.8791666666666667.pth'\n",
    "\n",
    "\n",
    "DEVICE = \"cuda:1\" if torch.cuda.is_available() else \"cpu\"\n",
    "print(DEVICE)\n",
    "\n",
    "\n",
    "experiment_path = os.path.join(EXPERIMENT_OUTPUT_DIR, EXPRIMENT_NAME)\n",
    "trail_path = os.path.join(experiment_path, TRIAL_NAME)\n",
    "checkpoint_path = os.path.join(trail_path, CHECKPOINT_NAME)\n",
    "print(checkpoint_path)\n",
    "\n",
    "\n",
    "TRAIN_RATIO = 0.8\n",
    "VAL_RATIO = 0.1\n",
    "TEST_RATIO = 0.1\n",
    "\n",
    "np.random.seed(0)\n"
   ]
  },
  {
   "attachments": {},
   "cell_type": "markdown",
   "metadata": {},
   "source": [
    "# load model"
   ]
  },
  {
   "cell_type": "code",
   "execution_count": 2,
   "metadata": {},
   "outputs": [],
   "source": [
    "model = torch.load(checkpoint_path).to(DEVICE)\n",
    "model.device = DEVICE\n",
    "# print(model)"
   ]
  },
  {
   "attachments": {},
   "cell_type": "markdown",
   "metadata": {},
   "source": [
    "# load test data (copied from run_experiment)"
   ]
  },
  {
   "cell_type": "code",
   "execution_count": 3,
   "metadata": {},
   "outputs": [],
   "source": [
    "#### imgs txt file to array, shape (n,)\n",
    "autumn_img_strarr = np.loadtxt(Autumn_val_txt, dtype=str)\n",
    "night_img_strarr = np.loadtxt(Night_val_txt, dtype=str)\n",
    "# suncloud_img_strarr = np.loadtxt(Suncloud_val_txt, dtype=str)\n",
    "\n",
    "#### vo txt file, shape (n,8)\n",
    "Autumn_vo_strarr = np.loadtxt(Autumn_val_vo, delimiter=',', skiprows=1, dtype=np.double) \n",
    "night_vo_strarr = np.loadtxt(Night_val_vo, delimiter=',', skiprows=1, dtype=np.double) \n",
    "# suncloud_vo_strarr = np.loadtxt(Suncloud_val_vo, delimiter=',', skiprows=1, dtype=np.double) \n",
    "\n",
    "\n",
    "#### load the example loop closure files\n",
    "# lcd_autumn_night_easy_strarr = np.loadtxt(lcd_autumn_night_easy_path, dtype=str, delimiter=' ')   \n",
    "# lcd_autumn_night_diff_strarr = np.loadtxt(lcd_autumn_night_diff_path, dtype=str, delimiter=' ')  \n",
    "# # lcd_autumn_suncloud_easy_strarr = np.loadtxt(lcd_autumn_suncloud_easy_path, dtype=str, delimiter=' ') \n",
    "# # lcd_autumn_suncloud_diff_strarr = np.loadtxt(lcd_autumn_suncloud_diff_path, dtype=str, delimiter=' ')  \n",
    "# lcd_autumn_night_strarr = np.concatenate((lcd_autumn_night_easy_strarr,\n",
    "#                                           lcd_autumn_night_diff_strarr), axis=0) \n",
    "# print(lcd_autumn_night_strarr.shape)\n",
    "# shape (n,3)\n",
    "'''final output'''\n",
    "lcd_autumn_night_strarr = np.loadtxt(lcd_autumn_night_val_path, dtype=str, delimiter=' ')\n",
    "\n",
    "\n",
    "#### remove the ',' in numpy_str_\n",
    "for i in range(len(lcd_autumn_night_strarr)):\n",
    "    lcd_autumn_night_strarr[i][0] = np.char.strip(lcd_autumn_night_strarr[i][0], ',')\n",
    "    lcd_autumn_night_strarr[i][1] = np.char.strip(lcd_autumn_night_strarr[i][1], ',')\n",
    "for i in range(len(lcd_autumn_night_strarr)):\n",
    "    _, lcd_autumn_night_strarr[i][0] = str(lcd_autumn_night_strarr[i][0]).split('/')\n",
    "    _, lcd_autumn_night_strarr[i][1] = str(lcd_autumn_night_strarr[i][1]).split('/') \n",
    "    \n",
    "#### find sequence for each line and build LCDdata list\n",
    "autumn_img_idxs, autumn_vo_idxs = \\\n",
    "    imgstr2idx(lcd_autumn_night_strarr[:,0], autumn_img_strarr, Autumn_vo_strarr)\n",
    "night_img_idxs, night_vo_idxs = \\\n",
    "    imgstr2idx(lcd_autumn_night_strarr[:,1], night_img_strarr, night_vo_strarr)\n",
    "# autumn_night_gt = [float(g) for g in lcd_autumn_night_strarr[:,2]]\n",
    "\n",
    "assert len(autumn_img_idxs) == len(night_img_idxs)\n",
    "\n",
    "#### build the LCDdata list\n",
    "LCDdata_list = []\n",
    "\n",
    "for i in range(len(autumn_img_idxs)):\n",
    "    ## find query\n",
    "    q1_img_idx, q1_vo_idx = autumn_img_idxs[i], autumn_vo_idxs[i]\n",
    "    q2_img_idx, q2_vo_idx = night_img_idxs[i], night_vo_idxs[i] \n",
    "    q1 = autumn_img_strarr[q1_img_idx]\n",
    "    q2 = night_img_strarr[q2_img_idx]  \n",
    "    \n",
    "    ## find sequence\n",
    "    q1_left_idx_seq, q1_right_idx_seq, q1_left_relat_dist, q1_right_relat_dist, _, _ = \\\n",
    "        find_seq(autumn_img_strarr, Autumn_vo_strarr, q1_img_idx, q1_vo_idx, DIST_THREASH, SELECT_INTVAL, COUNT_IMG_INTVAL, False)\n",
    "    q2_left_idx_seq, q2_right_idx_seq, q2_left_relat_dist, q2_right_relat_dist, _, _ = \\\n",
    "        find_seq(night_img_strarr, night_vo_strarr, q2_img_idx, q2_vo_idx, DIST_THREASH, SELECT_INTVAL, COUNT_IMG_INTVAL, False)\n",
    " \n",
    "    ## info for each query\n",
    "    q1_pos = len(q1_left_idx_seq)\n",
    "    q1_imgfolder = Autumn_val_imgfolder\n",
    "    q1_idx_seq = q1_left_idx_seq + [q1_img_idx] + q1_right_idx_seq\n",
    "    q1_seq = autumn_img_strarr.flatten()[q1_idx_seq]\n",
    "    q1_relat_dist = q1_left_relat_dist + [0.0] + q1_right_relat_dist\n",
    "    q1_relat_dist = [(d / DIST_NORM) for d in q1_relat_dist]     \n",
    "    \n",
    "    q2_pos = len(q2_left_idx_seq)\n",
    "    q2_imgfolder = Night_val_imgfolder  \n",
    "    q2_idx_seq = q2_left_idx_seq + [q2_img_idx] + q2_right_idx_seq\n",
    "    q2_seq = night_img_strarr.flatten()[q2_idx_seq]\n",
    "    q2_relat_dist = q2_left_relat_dist + [0.0] + q2_right_relat_dist\n",
    "    q2_relat_dist = [(d / DIST_NORM) for d in q2_relat_dist]\n",
    "    \n",
    "    q1_timestamp, q2_timestamp = imgstr2timestamp(q1_seq), imgstr2timestamp(q2_seq)\n",
    "    q1_relat_timestamp = [( (t - q1_timestamp[q1_pos]) / TIME_NORM) for t in q1_timestamp]\n",
    "    q2_relat_timestamp = [( (t - q2_timestamp[q2_pos]) / TIME_NORM) for t in q2_timestamp]  \n",
    "        \n",
    "    lcd_data = LCDdata(q1_imgfolder, q2_imgfolder,\n",
    "                       q1_seq, q2_seq,\n",
    "                       q1_pos, q2_pos,\n",
    "                       q1_relat_dist, q2_relat_dist,\n",
    "                       q1_relat_timestamp, q2_relat_timestamp,\n",
    "                       0)\n",
    "    LCDdata_list.append(lcd_data)\n",
    "    "
   ]
  },
  {
   "attachments": {},
   "cell_type": "markdown",
   "metadata": {},
   "source": [
    "# evaluate"
   ]
  },
  {
   "cell_type": "code",
   "execution_count": 4,
   "metadata": {},
   "outputs": [],
   "source": [
    "\n",
    "test_data_list = LCDdata_list\n",
    "\n",
    "## get outputs\n",
    "outputs = []\n",
    "gts = []\n",
    "model.eval()\n",
    "for data in test_data_list:\n",
    "    data.to_torch_seq()\n",
    "    data.to_device(DEVICE)\n",
    "    out = model(data) \n",
    "    outputs.append(out.item())  \n",
    "    gts.append(data.gt.item())\n",
    "    data.release_images()\n",
    "    "
   ]
  },
  {
   "cell_type": "code",
   "execution_count": 6,
   "metadata": {},
   "outputs": [],
   "source": [
    "with open(OUTPUT_FILE_NAME, 'w') as f:\n",
    "    for i,out in enumerate(outputs):\n",
    "        if out >= OUTPUT_MATCH_THREASH:\n",
    "            outputs[i] = 1\n",
    "        elif out < OUTPUT_MATCH_THREASH:\n",
    "            outputs[i] = 0\n",
    "        else:\n",
    "            pass\n",
    "        f.write(f'{outputs[i]}')\n",
    "        f.write('\\n')"
   ]
  }
 ],
 "metadata": {
  "kernelspec": {
   "display_name": "py39_VPR",
   "language": "python",
   "name": "python3"
  },
  "language_info": {
   "codemirror_mode": {
    "name": "ipython",
    "version": 3
   },
   "file_extension": ".py",
   "mimetype": "text/x-python",
   "name": "python",
   "nbconvert_exporter": "python",
   "pygments_lexer": "ipython3",
   "version": "3.9.16"
  },
  "orig_nbformat": 4
 },
 "nbformat": 4,
 "nbformat_minor": 2
}
